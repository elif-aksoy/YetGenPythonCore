{
 "cells": [
  {
   "attachments": {},
   "cell_type": "markdown",
   "metadata": {},
   "source": [
    "# Problem 1 "
   ]
  },
  {
   "cell_type": "code",
   "execution_count": 2,
   "metadata": {},
   "outputs": [
    {
     "name": "stdout",
     "output_type": "stream",
     "text": [
      "[ 5 23 19 47 11]\n",
      "[ 5 11 19 23 47]\n"
     ]
    }
   ],
   "source": [
    "# 1 - numpy kütüphanesini import edin\n",
    "import numpy as np\n",
    "# 2 - 5 elemanlı bir numpy array oluşturun\n",
    "array=np.array([5,23,19,47,11])\n",
    "print(array)\n",
    "# 3 - Oluşturduğunuz arrayi küçükten büyüğe sıralayın.\n",
    "array.sort()\n",
    "print(array)"
   ]
  },
  {
   "attachments": {},
   "cell_type": "markdown",
   "metadata": {},
   "source": [
    "# Problem 2"
   ]
  },
  {
   "cell_type": "code",
   "execution_count": 4,
   "metadata": {},
   "outputs": [
    {
     "name": "stdout",
     "output_type": "stream",
     "text": [
      "[10 15 30 45 60]\n",
      "[ 5  6  7  8  9 10 11 12 13 14]\n",
      "[50 55 60 65 70 75 80 85 90 95]\n",
      "[0. 0. 0. 0. 0. 0. 0. 0. 0. 0.]\n",
      "[1. 1. 1. 1. 1. 1. 1. 1. 1. 1.]\n",
      "[  0.  25.  50.  75. 100.]\n",
      "[16 22 26 27 14]\n",
      "[-1  0  0  0  0  0 -1  0 -1 -1]\n",
      "[[49 47 21 38 45]\n",
      " [16 22 19 23 41]\n",
      " [25 45 13 42 12]]\n",
      "[ 90 114  53 103  98]\n",
      "[200 121 137]\n",
      "12\n",
      "49\n",
      "30.533333333333335\n",
      "0\n",
      "[[18 18 19 17 11]\n",
      " [10 13 16 16 12]\n",
      " [14 14 16 17 13]]\n",
      "[[18 18 19 17 11]\n",
      " [10 13 16 16 12]\n",
      " [14 14 16 17 13]]\n",
      "[[14 14 16 17 13]\n",
      " [10 13 16 16 12]\n",
      " [18 18 19 17 11]]\n",
      "[18 18 19 17 11]\n",
      "16\n",
      "[49 16 25]\n",
      "[[324 324 361 289 121]\n",
      " [100 169 256 256 144]\n",
      " [196 196 256 289 169]]\n",
      "[[False False False False False]\n",
      " [ True  True False  True False]\n",
      " [False False False False False]]\n"
     ]
    }
   ],
   "source": [
    "# 1- (10,15,30,45,60) değerlerine sahip numpy dizisi oluşturunuz.\n",
    "dizi=np.array([10,15,30,45,60])\n",
    "print(dizi)\n",
    "# 2- (5-15) arasındaki sayılarla numpy dizisi oluşturunuz.\n",
    "dizi2=np.arange(5,15)\n",
    "print(dizi2)\n",
    "# 3- (50-100) arasında 5'er 5'er artarak numpy dizisi oluşturunuz.\n",
    "dizi3=np.arange(50,100,5)\n",
    "print(dizi3)\n",
    "# 4- 10 elemanlı sıfırlardan oluşan bir dizi oluşturunuz.\n",
    "dizi4=np.zeros(10)\n",
    "print(dizi4)\n",
    "# 5- 10 elemanlı birlerden oluşan bir dizi oluşturunuz.\n",
    "dizi5=np.ones(10)\n",
    "print(dizi5)\n",
    "# 6- (0-100) arasında eşit aralıklı 5 sayı üretin.\n",
    "dizi6=np.linspace(0,100,5)\n",
    "print(dizi6)\n",
    "# 7- (10-30) arasında rastgele 5 tane tamsayı üretin.\n",
    "dizi7=np.random.randint(10,30,5)\n",
    "print(dizi7)\n",
    "# 8- [-1 ile 1] arasında 10 adet sayı üretin.\n",
    "dizi8=np.random.randint(-1,1,10)\n",
    "print(dizi8)\n",
    "# 9- (3x5) boyutlarında (10-50) arasında rastgele bir matris oluşturunuz.\n",
    "num=np.random.randint(10,50,size=(3,5))\n",
    "print(num)\n",
    "# 10- Üretilen matrisin satır ve sütun sayıları toplamlarını hesaplayınız ?\n",
    "print(num.sum(axis=0))\n",
    "print(num.sum(axis=1))\n",
    "# 11- Üretilen matrisin en büyük, en küçük ve ortalaması nedir ?\n",
    "print(num.min())\n",
    "print(num.max())\n",
    "print(num.mean())\n",
    "# 12- Üretilen matrisin en büyük değerinin indeksi kaçtır ?\n",
    "print(num.argmax())\n",
    "# 13- (10-20) arasındaki sayıları içeren dizinin ilk 3 elemanını seçiniz.\n",
    "num2=np.random.randint(10,20,size=(3,5))\n",
    "print(num2)\n",
    "print(num2[:3])\n",
    "\n",
    "# 14- Üretilen dizinin elemanlarını tersten yazdırın.\n",
    "print(num2[::-1])\n",
    "\n",
    "# 15- Üretilen matrisin ilk satırını seçiniz.\n",
    "print(num2[0])\n",
    "\n",
    "# 16- Üretilen matrisin 2.satır 3.sütundaki elemanı hangisidir ?\n",
    "print(num2[1,2])\n",
    "\n",
    "# 17- Üretilen matrisin tüm satırlardaki ilk elemanı seçiniz.\n",
    "print(num[:,0])\n",
    "# 18- Üretilen matrisin her bir elemanının karesini alınız.\n",
    "print(num2**2)\n",
    "# 19- Üretilen matris elemanlarının hangisi pozitif çift sayıdır ? Aralığı (-50,+50) arasında yapınız.\n",
    "num3=np.random.randint(-50,50, size=(3,5))\n",
    "print((num3>0) & (num3%2==0) )"
   ]
  }
 ],
 "metadata": {
  "kernelspec": {
   "display_name": "Python 3",
   "language": "python",
   "name": "python3"
  },
  "language_info": {
   "codemirror_mode": {
    "name": "ipython",
    "version": 3
   },
   "file_extension": ".py",
   "mimetype": "text/x-python",
   "name": "python",
   "nbconvert_exporter": "python",
   "pygments_lexer": "ipython3",
   "version": "3.11.1"
  },
  "orig_nbformat": 4,
  "vscode": {
   "interpreter": {
    "hash": "5026d2d6e7aaaaba093def813beadff083d8733e4a511af01735cbabd156995d"
   }
  }
 },
 "nbformat": 4,
 "nbformat_minor": 2
}

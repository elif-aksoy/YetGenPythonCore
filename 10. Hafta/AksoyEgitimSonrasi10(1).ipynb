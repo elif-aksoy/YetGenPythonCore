{
 "cells": [
  {
   "attachments": {},
   "cell_type": "markdown",
   "metadata": {},
   "source": [
    "# Problem 1 "
   ]
  },
  {
   "cell_type": "code",
   "execution_count": 2,
   "metadata": {},
   "outputs": [
    {
     "name": "stdout",
     "output_type": "stream",
     "text": [
      "[ 5 23 19 47 11]\n",
      "[ 5 11 19 23 47]\n"
     ]
    }
   ],
   "source": [
    "# 1 - numpy kütüphanesini import edin\n",
    "import numpy as np\n",
    "# 2 - 5 elemanlı bir numpy array oluşturun\n",
    "array=np.array([5,23,19,47,11])\n",
    "print(array)\n",
    "# 3 - Oluşturduğunuz arrayi küçükten büyüğe sıralayın.\n",
    "array.sort()\n",
    "print(array)"
   ]
  },
  {
   "attachments": {},
   "cell_type": "markdown",
   "metadata": {},
   "source": [
    "# Problem 2"
   ]
  },
  {
   "cell_type": "code",
   "execution_count": 24,
   "metadata": {},
   "outputs": [
    {
     "name": "stdout",
     "output_type": "stream",
     "text": [
      "[10 15 30 45 60]\n",
      "[ 5  6  7  8  9 10 11 12 13 14]\n",
      "[50 55 60 65 70 75 80 85 90 95]\n",
      "[0. 0. 0. 0. 0. 0. 0. 0. 0. 0.]\n",
      "[1. 1. 1. 1. 1. 1. 1. 1. 1. 1.]\n",
      "[  0.  25.  50.  75. 100.]\n",
      "[21 15 29 23 14]\n",
      "[-1 -1  0  0  0  0 -1 -1  0  0]\n",
      "[[13 45 15 29 22]\n",
      " [22 15 18 40 13]\n",
      " [17 29 18 44 43]]\n",
      "13\n",
      "45\n",
      "25.533333333333335\n",
      "1\n",
      "[[14 16 11 19 19]\n",
      " [12 14 18 12 19]\n",
      " [11 13 15 17 16]]\n",
      "[[14 16 11 19 19]\n",
      " [12 14 18 12 19]\n",
      " [11 13 15 17 16]]\n",
      "[[11 13 15 17 16]\n",
      " [12 14 18 12 19]\n",
      " [14 16 11 19 19]]\n",
      "[14 16 11 19 19]\n",
      "18\n",
      "[[196 256 121 361 361]\n",
      " [144 196 324 144 361]\n",
      " [121 169 225 289 256]]\n"
     ]
    },
    {
     "ename": "ValueError",
     "evalue": "The truth value of an array with more than one element is ambiguous. Use a.any() or a.all()",
     "output_type": "error",
     "traceback": [
      "\u001b[1;31m---------------------------------------------------------------------------\u001b[0m",
      "\u001b[1;31mValueError\u001b[0m                                Traceback (most recent call last)",
      "Cell \u001b[1;32mIn[24], line 56\u001b[0m\n\u001b[0;32m     54\u001b[0m \u001b[39m# 19- Üretilen matris elemanlarının hangisi pozitif çift sayıdır ? Aralığı (-50,+50) arasında yapınız.\u001b[39;00m\n\u001b[0;32m     55\u001b[0m num3\u001b[39m=\u001b[39mnp\u001b[39m.\u001b[39mrandom\u001b[39m.\u001b[39mrandint(\u001b[39m-\u001b[39m\u001b[39m50\u001b[39m,\u001b[39m50\u001b[39m, size\u001b[39m=\u001b[39m(\u001b[39m3\u001b[39m,\u001b[39m5\u001b[39m))\n\u001b[1;32m---> 56\u001b[0m \u001b[39mprint\u001b[39m((num3\u001b[39m>\u001b[39;49m\u001b[39m0\u001b[39;49m) \u001b[39mand\u001b[39;49;00m (num3\u001b[39m%\u001b[39;49m\u001b[39m2\u001b[39;49m) )\n",
      "\u001b[1;31mValueError\u001b[0m: The truth value of an array with more than one element is ambiguous. Use a.any() or a.all()"
     ]
    }
   ],
   "source": [
    "# 1- (10,15,30,45,60) değerlerine sahip numpy dizisi oluşturunuz.\n",
    "dizi=np.array([10,15,30,45,60])\n",
    "print(dizi)\n",
    "# 2- (5-15) arasındaki sayılarla numpy dizisi oluşturunuz.\n",
    "dizi2=np.arange(5,15)\n",
    "print(dizi2)\n",
    "# 3- (50-100) arasında 5'er 5'er artarak numpy dizisi oluşturunuz.\n",
    "dizi3=np.arange(50,100,5)\n",
    "print(dizi3)\n",
    "# 4- 10 elemanlı sıfırlardan oluşan bir dizi oluşturunuz.\n",
    "dizi4=np.zeros(10)\n",
    "print(dizi4)\n",
    "# 5- 10 elemanlı birlerden oluşan bir dizi oluşturunuz.\n",
    "dizi5=np.ones(10)\n",
    "print(dizi5)\n",
    "# 6- (0-100) arasında eşit aralıklı 5 sayı üretin.\n",
    "dizi6=np.linspace(0,100,5)\n",
    "print(dizi6)\n",
    "# 7- (10-30) arasında rastgele 5 tane tamsayı üretin.\n",
    "dizi7=np.random.randint(10,30,5)\n",
    "print(dizi7)\n",
    "# 8- [-1 ile 1] arasında 10 adet sayı üretin.\n",
    "dizi8=np.random.randint(-1,1,10)\n",
    "print(dizi8)\n",
    "# 9- (3x5) boyutlarında (10-50) arasında rastgele bir matris oluşturunuz.\n",
    "num=np.random.randint(10,50,size=(3,5))\n",
    "print(num)\n",
    "# 10- Üretilen matrisin satır ve sütun sayıları toplamlarını hesaplayınız ?\n",
    "\n",
    "# 11- Üretilen matrisin en büyük, en küçük ve ortalaması nedir ?\n",
    "print(num.min())\n",
    "print(num.max())\n",
    "print(num.mean())\n",
    "# 12- Üretilen matrisin en büyük değerinin indeksi kaçtır ?\n",
    "print(num.argmax())\n",
    "# 13- (10-20) arasındaki sayıları içeren dizinin ilk 3 elemanını seçiniz.\n",
    "num2=np.random.randint(10,20,size=(3,5))\n",
    "print(num2)\n",
    "print(num2[:3])\n",
    "\n",
    "# 14- Üretilen dizinin elemanlarını tersten yazdırın.\n",
    "print(num2[::-1])\n",
    "\n",
    "# 15- Üretilen matrisin ilk satırını seçiniz.\n",
    "print(num2[0])\n",
    "\n",
    "# 16- Üretilen matrisin 2.satır 3.sütundaki elemanı hangisidir ?\n",
    "print(num2[1,2])\n",
    "\n",
    "# 17- Üretilen matrisin tüm satırlardaki ilk elemanı seçiniz.\n",
    "\n",
    "# 18- Üretilen matrisin her bir elemanının karesini alınız.\n",
    "print(num2**2)\n",
    "# 19- Üretilen matris elemanlarının hangisi pozitif çift sayıdır ? Aralığı (-50,+50) arasında yapınız.\n",
    "num3=np.random.randint(-50,50, size=(3,5))\n",
    "print((num3>0) and (num3%2) )"
   ]
  }
 ],
 "metadata": {
  "kernelspec": {
   "display_name": "Python 3",
   "language": "python",
   "name": "python3"
  },
  "language_info": {
   "codemirror_mode": {
    "name": "ipython",
    "version": 3
   },
   "file_extension": ".py",
   "mimetype": "text/x-python",
   "name": "python",
   "nbconvert_exporter": "python",
   "pygments_lexer": "ipython3",
   "version": "3.11.1"
  },
  "orig_nbformat": 4,
  "vscode": {
   "interpreter": {
    "hash": "5026d2d6e7aaaaba093def813beadff083d8733e4a511af01735cbabd156995d"
   }
  }
 },
 "nbformat": 4,
 "nbformat_minor": 2
}

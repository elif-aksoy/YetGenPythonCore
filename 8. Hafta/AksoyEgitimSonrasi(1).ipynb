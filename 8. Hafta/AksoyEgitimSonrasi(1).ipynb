{
 "cells": [
  {
   "attachments": {},
   "cell_type": "markdown",
   "metadata": {},
   "source": [
    "# Problem 1\n",
    "\n",
    "Şimdi beraber kullanıcılardan aldığımız verileri işleyerek, onlara hem çıktı verecek, hem de aldığımız ve hesapladığımız verileri ileride kullanabilmek adına kaydedeceğiz.\n",
    "\n",
    "\n",
    " **Bu bir veri giriş platformu olacak**\n",
    "\n",
    "\n",
    " * kullanıcıya kaç giriş yapacağını soracağız\n",
    "* kullanıcıdan isim-soyisim, yaş, boy, kilo bilgilerini alarak VKİ hesaplayacağız\n",
    "* ardından bunları sınıflara göre kaydedeceğiz bir dosyaya kaydedeceğiz\n",
    "\n",
    "\n",
    "Sınıflar ise şu şekilde: \n",
    "* 18, 5 kg/m.'nin altında olanlar: Zayıf\n",
    "* 18.5 – 24, 9 kg/m. arasında olanlar: Normal kilolu\n",
    "* 25 – 29, 9 kg/m. arasında olanlar: Fazla kilolu\n",
    "* 30 – 39, 9 kg/m. arasında olanlar: Obez\n",
    "* 40 kg/m.'nin üzerinde olanlar: İleri derecede obez (morbid obez), olarak görülür."
   ]
  },
  {
   "cell_type": "code",
   "execution_count": 1,
   "metadata": {},
   "outputs": [
    {
     "name": "stdout",
     "output_type": "stream",
     "text": [
      "Kullanıcı 1:\n"
     ]
    }
   ],
   "source": [
    "class User:\n",
    "    def giris(self, ad_soyad, boy, kilo, vki):\n",
    "        self.ad_soyad= ad_soyad\n",
    "        self.boy= boy\n",
    "        self.kilo = kilo\n",
    "        self.vki = vki\n",
    "    def vki_hesaplama(self):\n",
    "        boy_m = self.boy / 100\n",
    "        kilo_kg = self.kilo\n",
    "        bmi = kilo_kg / (boy_m ** 2) \n",
    "        return vki\n",
    "    def siniflandirma(self):\n",
    "        vki = self.vki\n",
    "        if vki < 18.5:\n",
    "            return \"Zayıf\"\n",
    "        elif 18.5 <= vki < 24.9:\n",
    "            return \"Normal kilolu\"\n",
    "        elif 25 <= bmi < 29.9:\n",
    "            return \"Fazla kilolu\"\n",
    "        elif 30 <= bmi < 39.9:\n",
    "            return \"Obez\"\n",
    "        else:\n",
    "            return \"İleri derece obez\"\n",
    "giris_sayisi= int(input(\"Kaç giriş yapılacak? \"))\n",
    "kullanicilar= []\n",
    "for i in range(giris_sayisi):\n",
    "    print(f\"Kullanıcı {i+1}:\")\n",
    "    ad_soyad = input(\"Ad ve Soyad giriniz: \")\n",
    "    boy= float(input(\"Boy uzunluğu giriniz (cm): \"))\n",
    "    kilo = float(input(\"Kilo giriniz (kg): \"))\n",
    "\n",
    "    kullanici= kullanicilar(ad_soyad, boy, kilo)\n",
    "    vki = kullanici.vki_hesaplama()\n",
    "    kullanici.vki = vki\n",
    "    siniflandir = kullanici.siniflandirma()\n",
    "    print(f\"VKİ: {vki:.2f}\")\n",
    "    print(f\"Sınıflandırması: {siniflandir}\")\n",
    "    kullanicilar.append(kullanicilar)\n",
    "with open(\"kullanici_verisi.txt\", \"w\") as file:\n",
    "    for user in kullanicilar:\n",
    "        file.write(f\"Ad Soyad: {kullanici.ad_soyad}, Boy: {kullanici.boy}, Kilo: {kullanici.kilo}, VKİ: {kullanici.vki:.2f}, Sınıflandırması: {kullanici.siniflandirma()}\\n\")\n",
    "print(\"Kişilerin veileri kullanici_veri.txt dosyasına kaydedildi.\")"
   ]
  },
  {
   "attachments": {},
   "cell_type": "markdown",
   "metadata": {},
   "source": [
    "# Problem 2\n",
    "**YetBar - Smoothie Bank**\n",
    "---\n",
    "YetBar spor salonunun girişinde bulunan, insansız bir sağlıklı içecek otomatıdır. Kullanıcı çeşitli girdiler smoothie içeceğine koyacağı ürünleri belirleyebilir, fiyat hesaplaması yaptırabilir ya da sadece menüyü görüntüleyebilir.\n",
    "\n",
    "**Projenin Amacı:**\n",
    "\n",
    "*   Birbirini etkileyen ve bir kod içerisinde birden fazla defa başvurulacak fonksiyonların oluşturulup, \"fonksiyonel\" proglamlamak.\n",
    "*   Büyük programları yazarken, yazılımcı olarak yapabileceğimiz hatalardan kaçınmak için kontrol yöntemleri geliştirmek.\n",
    "*   Kullanıcı inputlarını ve yaptığımız hesapları, raporlamak/loglamak amacıyla kaydetmek.\n",
    "\n",
    "**Programdan Beklenen Çıktılar**\n",
    "* Program kullanıcıya temelde 2 farklı işlem yapma imkanı sağlar.\n",
    "> 1. Menüyü görüntüleme\n",
    "> 3. Satın alma\n",
    "* Satın alınan her içecek tarih, fiyat bilgisi ile kaydedilmeli ve her zaman ulaşılabilir olmalıdır.\n",
    "\n",
    "\n"
   ]
  },
  {
   "cell_type": "code",
   "execution_count": null,
   "metadata": {},
   "outputs": [],
   "source": [
    "import datetime\n",
    "satin_alinan = {}\n",
    "menu = {\n",
    "    \"muz\": 1.50,\n",
    "    \"çilek\": 2.00,\n",
    "    \"süt\": 1.75,\n",
    "    \"portakal\": 2.50,\n",
    "    \"elma\": 1.25,\n",
    "}\n",
    "def menu_goruntuleme():\n",
    "    \"\"\"Mevcut içeriklerin ve fiyatların menüsünü görüntüleyin\"\"\"\n",
    "    print(\"Menu:\")\n",
    "    for bilesen, ucret in menu.items():\n",
    "        print(f\"{bilesen.capitalize()}: {ucret:.2f}\")\n",
    "def satin_alinanlar():\n",
    "    \"\"\"Kullanıcının smoothie için malzemeleri belirlemesine ve fiyatı hesaplamasına izin ver\"\"\"\n",
    "    print(\" YetBar'a hoşgeldiniz\")\n",
    "    print(\"Lütfen smoothie içinde olacakları seçiniz:\")\n",
    "    bilesenler = input().lower().split(\",\")\n",
    "    toplam_ucret = 0.0  \n",
    "    for bilesen in bilesenler:\n",
    "        if bilesen in menu:\n",
    "            toplam_ucret += menu[bilesen]\n",
    "        else:\n",
    "            print(f\"Hata: '{bilesen}' bulunamadı.\")\n",
    "            return"
   ]
  }
 ],
 "metadata": {
  "kernelspec": {
   "display_name": "Python 3",
   "language": "python",
   "name": "python3"
  },
  "language_info": {
   "codemirror_mode": {
    "name": "ipython",
    "version": 3
   },
   "file_extension": ".py",
   "mimetype": "text/x-python",
   "name": "python",
   "nbconvert_exporter": "python",
   "pygments_lexer": "ipython3",
   "version": "3.11.1"
  },
  "orig_nbformat": 4,
  "vscode": {
   "interpreter": {
    "hash": "5026d2d6e7aaaaba093def813beadff083d8733e4a511af01735cbabd156995d"
   }
  }
 },
 "nbformat": 4,
 "nbformat_minor": 2
}

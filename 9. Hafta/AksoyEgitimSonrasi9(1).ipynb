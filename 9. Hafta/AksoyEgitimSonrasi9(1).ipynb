{
 "cells": [
  {
   "attachments": {},
   "cell_type": "markdown",
   "metadata": {},
   "source": [
    "# Problem 1\n",
    "\n",
    "Kumanda isminde bir sınıf oluşturarak aşağıdaki işlemleri yapmasını sağlayan fonksiyonları sınıf içerisinde yazalım.\n",
    "1. Tv Aç\n",
    "2. Tv Kapat\n",
    "3. Ses Ayarları\n",
    "4. Kanal Ekle\n",
    "5. Kanal Sayısını Öğrenme\n",
    "6. Rastgele Kanala Geçme\n",
    "7. Televizyon Bilgileri\n",
    "\n",
    "\n",
    "Kumandayı kapatmak için q tuşuna basılmalı ve diğer durumlarda hangi işlemi yapmak istediği sorulmalıdır. Her işlemde gerekli fonksiyonunun sınıf içerisinden çağırılması gerekmektedir.\n",
    "\n",
    "random ve time kütüphanesini araştırarak kullanabilirsiniz.\n",
    "\n",
    "Kendi istediğiniz özellikleri eklemekte serbetsiniz."
   ]
  },
  {
   "cell_type": "code",
   "execution_count": 2,
   "metadata": {},
   "outputs": [],
   "source": [
    "import random\n",
    "import time\n",
    "\n",
    "class Kontrol:\n",
    "    def __init__(self):\n",
    "        self.durum= False\n",
    "        self.kanallar = []\n",
    "        self.kanal = None\n",
    "    def acma(self):\n",
    "        if not self.durum:\n",
    "            print(\"Televizyon açılıyor\")\n",
    "            time.sleep(1)\n",
    "            self.durum = True\n",
    "            print(\"Televizyon açıldı\")\n",
    "    def kapama(self):\n",
    "        if self.durum:\n",
    "            print(\"Televizyon kapatılıyor\")\n",
    "            time.sleep(1)\n",
    "            self.durum = False\n",
    "            print(\"Televizyon kapatıldı\")\n",
    "\n",
    "    \n",
    "    \n",
    "    \n",
    "    def kanal_ekle(self,kanal1):\n",
    "        if self.durum:\n",
    "            if kanal1 not in self.kanallar:\n",
    "                self.kanallar.append(kanal1)\n",
    "                print(f\"{kanal1} başarı ile eklendi.\")\n",
    "            else:\n",
    "                print(f\"{kanal1} kanalı zaten mevcut.\")\n",
    "                "
   ]
  }
 ],
 "metadata": {
  "kernelspec": {
   "display_name": "Python 3",
   "language": "python",
   "name": "python3"
  },
  "language_info": {
   "codemirror_mode": {
    "name": "ipython",
    "version": 3
   },
   "file_extension": ".py",
   "mimetype": "text/x-python",
   "name": "python",
   "nbconvert_exporter": "python",
   "pygments_lexer": "ipython3",
   "version": "3.11.1"
  },
  "orig_nbformat": 4,
  "vscode": {
   "interpreter": {
    "hash": "5026d2d6e7aaaaba093def813beadff083d8733e4a511af01735cbabd156995d"
   }
  }
 },
 "nbformat": 4,
 "nbformat_minor": 2
}

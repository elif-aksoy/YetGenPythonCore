{
 "cells": [
  {
   "attachments": {},
   "cell_type": "markdown",
   "metadata": {},
   "source": [
    "# Problem 1\n",
    "\n",
    "Kumanda isminde bir sınıf oluşturarak aşağıdaki işlemleri yapmasını sağlayan fonksiyonları sınıf içerisinde yazalım.\n",
    "1. Tv Aç\n",
    "2. Tv Kapat\n",
    "3. Ses Ayarları\n",
    "4. Kanal Ekle\n",
    "5. Kanal Sayısını Öğrenme\n",
    "6. Rastgele Kanala Geçme\n",
    "7. Televizyon Bilgileri\n",
    "\n",
    "\n",
    "Kumandayı kapatmak için q tuşuna basılmalı ve diğer durumlarda hangi işlemi yapmak istediği sorulmalıdır. Her işlemde gerekli fonksiyonunun sınıf içerisinden çağırılması gerekmektedir.\n",
    "\n",
    "random ve time kütüphanesini araştırarak kullanabilirsiniz.\n",
    "\n",
    "Kendi istediğiniz özellikleri eklemekte serbetsiniz."
   ]
  },
  {
   "cell_type": "code",
   "execution_count": 15,
   "metadata": {},
   "outputs": [
    {
     "name": "stdout",
     "output_type": "stream",
     "text": [
      "\n",
      "Televizyon Uygulaması\n",
      "1.TV Aç\n",
      "2.TV Kapat\n",
      "3.Ses Ayarları\n",
      "4.Kanal Ekle\n",
      "5.Kanal Sayısını Öğrenme\n",
      "6.Rastgele Kanal\n",
      "7.Televizyon Bilgileri\n",
      "Çıkmak için 'q' ya basınız.\n",
      "\n",
      "Kumanda\n"
     ]
    },
    {
     "ename": "AttributeError",
     "evalue": "type object 'Kontrol' has no attribute 'rastgele_knal'",
     "output_type": "error",
     "traceback": [
      "\u001b[1;31m---------------------------------------------------------------------------\u001b[0m",
      "\u001b[1;31mAttributeError\u001b[0m                            Traceback (most recent call last)",
      "Cell \u001b[1;32mIn[15], line 82\u001b[0m\n\u001b[0;32m     80\u001b[0m   \u001b[39mprint\u001b[39m(\u001b[39m\"\u001b[39m\u001b[39mKanal sayısını giriniz.\u001b[39m\u001b[39m\"\u001b[39m, \u001b[39mlen\u001b[39m(kumanda))\n\u001b[0;32m     81\u001b[0m \u001b[39melif\u001b[39;00m (islem\u001b[39m==\u001b[39m\u001b[39m\"\u001b[39m\u001b[39m6\u001b[39m\u001b[39m\"\u001b[39m) :\n\u001b[1;32m---> 82\u001b[0m   kumanda\u001b[39m.\u001b[39;49mrastgele_knal()\n\u001b[0;32m     83\u001b[0m \u001b[39melif\u001b[39;00m (islem\u001b[39m==\u001b[39m\u001b[39m\"\u001b[39m\u001b[39m7\u001b[39m\u001b[39m\"\u001b[39m) :\n\u001b[0;32m     84\u001b[0m   \u001b[39mprint\u001b[39m(\u001b[39m\"\u001b[39m\u001b[39mKumanda\u001b[39m\u001b[39m\"\u001b[39m)\n",
      "\u001b[1;31mAttributeError\u001b[0m: type object 'Kontrol' has no attribute 'rastgele_knal'"
     ]
    }
   ],
   "source": [
    "import random\n",
    "import time\n",
    "\n",
    "class Kontrol():\n",
    "    \n",
    "    def __init__(self, durum, ses, kanal_listesi, kanal):\n",
    "        self.durum= durum\n",
    "        self.ses=ses\n",
    "        self.kanal_listesi = kanal_listesi\n",
    "        self.kanal = kanal\n",
    "    def tv_acma(self):\n",
    "        if not self.durum:\n",
    "            print(\"Televizyon açılıyor\")\n",
    "            time.sleep(1)\n",
    "            self.durum = True\n",
    "            print(\"Televizyon açıldı\")\n",
    "    def tv_kapama(self):\n",
    "        if self.durum:\n",
    "            print(\"Televizyon kapatılıyor\")\n",
    "            time.sleep(1)\n",
    "            self.durum = False\n",
    "            print(\"Televizyon kapatıldı\")\n",
    "    def ses_ayarlari(self):\n",
    "        while True:\n",
    "            giris=input(\"Sesi azalt: '<'\\nSesi Artır: '>'\\Çıkış: Çıkış\")   \n",
    "            if (giris==\"<\") :\n",
    "                if (self.ses!=0):\n",
    "                    self.ses-=1\n",
    "                    print(\"Ses:\", self.ses)\n",
    "            elif (giris==\">\") :\n",
    "                if (self.ses!=20):\n",
    "                    self.ses+=1\n",
    "                    print(\"Ses:\", self.ses) \n",
    "            else:\n",
    "                print(\"Ses seviyesi değiştirildi\", self.ses)\n",
    "                break       \n",
    "    def kanal_ekle(self,kanal1):\n",
    "        if self.durum:\n",
    "            if kanal1 not in self.kanal_listesi:\n",
    "                self.kanal_listesi.append(kanal1)\n",
    "                print(f\"{kanal1} başarı ile eklendi.\")\n",
    "            else:\n",
    "                print(f\"{kanal1} kanalı zaten mevcut.\")\n",
    "    def rastgele_kanal(self):\n",
    "        rastgele= random.randint(0,len(self.kanal_listesi)-1) \n",
    "        self.kanal=self.kanal_listesi[rastgele]\n",
    "        print(\"Şu andaki kanal:\",self.kanal)\n",
    "\n",
    "kumanda = Kontrol\n",
    "\n",
    "print(\"\"\"\n",
    "Televizyon Uygulaması\n",
    "1.TV Aç\n",
    "2.TV Kapat\n",
    "3.Ses Ayarları\n",
    "4.Kanal Ekle\n",
    "5.Kanal Sayısını Öğrenme\n",
    "6.Rastgele Kanal\n",
    "7.Televizyon Bilgileri\n",
    "Çıkmak için 'q' ya basınız.\n",
    "\"\"\")\n",
    "\n",
    "while True:\n",
    "    islem=input(\"Yapılacak işlem seçiniz.\")\n",
    "    if (islem==\"q\") :\n",
    "      print(\"Program sonladırılıyor\")\n",
    "      break\n",
    "    elif (islem==\"1\") :\n",
    "      kumanda.tv_acma()\n",
    "    elif (islem==\"2\") :\n",
    "      kumanda.tv_kapama()\n",
    "    elif (islem==\"3\") :\n",
    "      kumanda.ses()\n",
    "    elif (islem==\"4\") :\n",
    "      kanal_isimleri=input(\"Eklemek istediğiniz kanalların isimlerini ',' ile ayırarak giriş yapınız.\")\n",
    "      kanal_listesi=kanal_isimleri.split(\",\")\n",
    "      for kanal1 in kanal_listesi:\n",
    "        kumanda.kanal_ekle(kanal1)\n",
    "    elif (islem==\"5\") :\n",
    "      print(\"Kanal sayısını giriniz.\", len(kumanda))\n",
    "    elif (islem==\"6\") :\n",
    "      kumanda.rastgele_knal()\n",
    "    elif (islem==\"7\") :\n",
    "      print(\"Kumanda\")\n",
    "    else:\n",
    "      print(\"Geçersiz işlem yaptınız.\")"
   ]
  }
 ],
 "metadata": {
  "kernelspec": {
   "display_name": "Python 3",
   "language": "python",
   "name": "python3"
  },
  "language_info": {
   "codemirror_mode": {
    "name": "ipython",
    "version": 3
   },
   "file_extension": ".py",
   "mimetype": "text/x-python",
   "name": "python",
   "nbconvert_exporter": "python",
   "pygments_lexer": "ipython3",
   "version": "3.11.1"
  },
  "orig_nbformat": 4,
  "vscode": {
   "interpreter": {
    "hash": "5026d2d6e7aaaaba093def813beadff083d8733e4a511af01735cbabd156995d"
   }
  }
 },
 "nbformat": 4,
 "nbformat_minor": 2
}
